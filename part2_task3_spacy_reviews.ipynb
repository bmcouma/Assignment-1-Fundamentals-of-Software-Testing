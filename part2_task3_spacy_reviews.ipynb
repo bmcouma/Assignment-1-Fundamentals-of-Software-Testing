#Task 3: spaCy NLP with Amazon Reviews

import spacy

nlp = spacy.load("en_core_web_sm")

review = "I love my new Samsung Galaxy. It's fast, stylish, and better than iPhone!"
doc = nlp(review)

# Named Entity Recognition
print("Entities:")
for ent in doc.ents:
    print(f"{ent.text} - {ent.label_}")

# Rule-based sentiment
positive_keywords = ["love", "great", "amazing", "best", "fast"]
negative_keywords = ["bad", "slow", "worst", "terrible"]

sentiment = "Neutral"
if any(word in review.lower() for word in positive_keywords):
    sentiment = "Positive"
elif any(word in review.lower() for word in negative_keywords):
    sentiment = "Negative"

print("Sentiment:", sentiment)


#a screenshot showing entities + sentiment IN ASSETS.
