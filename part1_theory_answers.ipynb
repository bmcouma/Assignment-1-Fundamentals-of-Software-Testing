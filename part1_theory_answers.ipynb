#Q1: TensorFlow vs PyTorch

*TensorFlow* is developed by Google and designed for production-grade applications. It uses static computation graphs and excels in mobile/web deployment using TensorFlow Lite or TensorFlow.js.

*PyTorch*, developed by Facebook, uses dynamic computation graphs (eager execution), making it more intuitive for researchers and rapid experimentation.

- *Use TensorFlow* when:
  - You want advanced deployment options.
  - You need tools like TensorBoard for visualization.

- *Use PyTorch* when:
  - You need flexibility and fast prototyping.
  - You're doing academic/research-focused tasks.

#Q2: Use Cases for Jupyter Notebooks
1. **Rapid Prototyping**: AI developers can write, test, and iterate over models interactively.

2. **Education/Reporting**: Ideal for tutorials or research as it supports code, visuals, and notes in one document.

#Q3: spaCy vs String Operations
spaCy offers tokenization, POS tagging, dependency parsing, NER, etc., while Python’s string functions only handle raw strings. spaCy uses machine learning pipelines for more accurate and efficient NLP tasks.

Comparative Table
| Feature           | Scikit-learn                        | TensorFlow                             |
|------------------|-------------------------------------|----------------------------------------|
| Target Use       | Classical ML                        | Deep Learning                          |
| User-Friendly    | Very beginner friendly              | More complex, but well-documented      |
| Deployment       | Limited                             | Excellent (supports web/mobile)        |
| Community        | Strong (academic & practical use)   | Very large (Google-backed)             |

